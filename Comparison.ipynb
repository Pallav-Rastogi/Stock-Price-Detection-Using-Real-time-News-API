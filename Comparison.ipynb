{
 "cells": [
  {
   "cell_type": "code",
   "execution_count": 62,
   "id": "d1ebb8a2",
   "metadata": {},
   "outputs": [],
   "source": [
    "import pandas as pd\n",
    "import numpy as np\n",
    "from sklearn.linear_model import LinearRegression\n",
    "from sklearn.metrics import mean_squared_error, r2_score, mean_absolute_error\n",
    "import plotly.graph_objects as go\n",
    "import plotly.express as px\n",
    "from plotly.subplots import make_subplots\n",
    "import warnings\n",
    "warnings.filterwarnings('ignore')"
   ]
  },
  {
   "cell_type": "code",
   "execution_count": 63,
   "id": "3943fc0d",
   "metadata": {},
   "outputs": [],
   "source": [
    "def create_features(df, lookback_window=5):\n",
    "    \"\"\"\n",
    "    Create features for stock price prediction\n",
    "    - lookback_window: number of previous close prices to use as features\n",
    "    \"\"\"\n",
    "    features_df = df.copy()\n",
    "    \n",
    "    # Create lagged close price features\n",
    "    for i in range(1, lookback_window + 1):\n",
    "        features_df[f'close_lag_{i}'] = features_df['Close'].shift(i)\n",
    "    \n",
    "    # Create lagged sentiment features\n",
    "    for i in range(1, lookback_window + 1):\n",
    "        features_df[f'sentiment_lag_{i}'] = features_df['sentiment_score'].shift(i)\n",
    "    \n",
    "    # Create target variable (next close price)\n",
    "    features_df['target'] = features_df['Close'].shift(-1)\n",
    "    \n",
    "    # Drop rows with NaN values\n",
    "    features_df = features_df.dropna()\n",
    "    \n",
    "    return features_df\n",
    "\n",
    "def prepare_model_data(features_df, lookback_window=5):\n",
    "    \"\"\"\n",
    "    Prepare data for training models\n",
    "    \"\"\"\n",
    "    # Features for naive model (only previous close prices)\n",
    "    naive_features = [f'close_lag_{i}' for i in range(1, lookback_window + 1)]\n",
    "    X_naive = features_df[naive_features]\n",
    "    \n",
    "    # Features for sentiment-enhanced model (close prices + sentiment)\n",
    "    sentiment_features = naive_features + [f'sentiment_lag_{i}' for i in range(1, lookback_window + 1)]\n",
    "    X_sentiment = features_df[sentiment_features]\n",
    "    \n",
    "    # Target variable\n",
    "    y = features_df['target']\n",
    "    \n",
    "    return X_naive, X_sentiment, y\n",
    "\n",
    "def train_models(X_naive, X_sentiment, y, train_size=100):\n",
    "    \"\"\"\n",
    "    Train both models on the training data\n",
    "    \"\"\"\n",
    "    # Split data\n",
    "    X_naive_train = X_naive.iloc[:train_size]\n",
    "    X_naive_test = X_naive.iloc[train_size:]\n",
    "    \n",
    "    X_sentiment_train = X_sentiment.iloc[:train_size]\n",
    "    X_sentiment_test = X_sentiment.iloc[train_size:]\n",
    "    \n",
    "    y_train = y.iloc[:train_size]\n",
    "    y_test = y.iloc[train_size:]\n",
    "    \n",
    "    # Train naive model (only close prices)\n",
    "    naive_model = LinearRegression()\n",
    "    naive_model.fit(X_naive_train, y_train)\n",
    "    \n",
    "    # Train sentiment-enhanced model\n",
    "    sentiment_model = LinearRegression()\n",
    "    sentiment_model.fit(X_sentiment_train, y_train)\n",
    "    \n",
    "    return naive_model, sentiment_model, X_naive_test, X_sentiment_test, y_test\n",
    "\n",
    "def evaluate_models(naive_model, sentiment_model, X_naive_test, X_sentiment_test, y_test):\n",
    "    \"\"\"\n",
    "    Evaluate both models and return comprehensive metrics\n",
    "    \"\"\"\n",
    "    # Make predictions\n",
    "    naive_predictions = naive_model.predict(X_naive_test)\n",
    "    sentiment_predictions = sentiment_model.predict(X_sentiment_test)\n",
    "    \n",
    "    # Calculate metrics for naive model\n",
    "    naive_rmse = np.sqrt(mean_squared_error(y_test, naive_predictions))\n",
    "    naive_mae = mean_absolute_error(y_test, naive_predictions)\n",
    "    naive_r2 = r2_score(y_test, naive_predictions)\n",
    "    naive_mape = np.mean(np.abs((y_test - naive_predictions) / y_test)) * 100\n",
    "    \n",
    "    # Calculate metrics for sentiment-enhanced model\n",
    "    sentiment_rmse = np.sqrt(mean_squared_error(y_test, sentiment_predictions))\n",
    "    sentiment_mae = mean_absolute_error(y_test, sentiment_predictions)\n",
    "    sentiment_r2 = r2_score(y_test, sentiment_predictions)\n",
    "    sentiment_mape = np.mean(np.abs((y_test - sentiment_predictions) / y_test)) * 100\n",
    "    \n",
    "    # Create metrics comparison\n",
    "    metrics_comparison = pd.DataFrame({\n",
    "        'Metric': ['RMSE', 'MAE', 'R²', 'MAPE (%)'],\n",
    "        'Naive Model': [naive_rmse, naive_mae, naive_r2, naive_mape],\n",
    "        'Sentiment Model': [sentiment_rmse, sentiment_mae, sentiment_r2, sentiment_mape],\n",
    "        'Improvement': [\n",
    "            (naive_rmse - sentiment_rmse) / naive_rmse * 100,\n",
    "            (naive_mae - sentiment_mae) / naive_mae * 100,\n",
    "            (sentiment_r2 - naive_r2) / abs(naive_r2) * 100,\n",
    "            (naive_mape - sentiment_mape) / naive_mape * 100\n",
    "        ]\n",
    "    })\n",
    "    \n",
    "    return metrics_comparison, naive_predictions, sentiment_predictions\n",
    "\n",
    "def create_visualization(final_dataset, naive_predictions, sentiment_predictions, train_size=100):\n",
    "    \"\"\"\n",
    "    Create comprehensive visualization comparing actual vs predicted prices\n",
    "    \"\"\"\n",
    "    # Prepare data for plotting\n",
    "    # Note: predictions start from index train_size + lookback_window (5)\n",
    "    plot_start_idx = train_size + 5\n",
    "    \n",
    "    actual_prices = final_dataset['Close'].iloc[plot_start_idx:plot_start_idx + len(naive_predictions)]\n",
    "    dates = final_dataset['datetime'].iloc[plot_start_idx:plot_start_idx + len(naive_predictions)]\n",
    "    \n",
    "    # Create subplots\n",
    "    fig = make_subplots(\n",
    "        rows=2, cols=2,\n",
    "        subplot_titles=('Price Predictions Comparison', 'Prediction Errors', \n",
    "                       'Sentiment vs Price', 'Model Performance Scatter'),\n",
    "        specs=[[{\"colspan\": 2}, None],\n",
    "               [{\"type\": \"scatter\"}, {\"type\": \"scatter\"}]]\n",
    "    )\n",
    "    \n",
    "    # Main price comparison plot\n",
    "    fig.add_trace(\n",
    "        go.Scatter(x=dates, y=actual_prices, name='Actual Price', \n",
    "                  line=dict(color='black', width=2)),\n",
    "        row=1, col=1\n",
    "    )\n",
    "    \n",
    "    fig.add_trace(\n",
    "        go.Scatter(x=dates, y=naive_predictions, name='Naive Model', \n",
    "                  line=dict(color='blue', width=1.5, dash='dash')),\n",
    "        row=1, col=1\n",
    "    )\n",
    "    \n",
    "    fig.add_trace(\n",
    "        go.Scatter(x=dates, y=sentiment_predictions, name='Sentiment Model', \n",
    "                  line=dict(color='red', width=1.5, dash='dot')),\n",
    "        row=1, col=1\n",
    "    )\n",
    "    \n",
    "    # Prediction errors\n",
    "    naive_errors = actual_prices - naive_predictions\n",
    "    sentiment_errors = actual_prices - sentiment_predictions\n",
    "    \n",
    "    fig.add_trace(\n",
    "        go.Scatter(x=dates, y=naive_errors, name='Naive Error', \n",
    "                  line=dict(color='blue', width=1)),\n",
    "        row=2, col=1\n",
    "    )\n",
    "    \n",
    "    fig.add_trace(\n",
    "        go.Scatter(x=dates, y=sentiment_errors, name='Sentiment Error', \n",
    "                  line=dict(color='red', width=1)),\n",
    "        row=2, col=1\n",
    "    )\n",
    "    \n",
    "    # Sentiment vs actual price correlation\n",
    "    sentiment_data = final_dataset['sentiment_score'].iloc[plot_start_idx:plot_start_idx + len(naive_predictions)]\n",
    "    fig.add_trace(\n",
    "        go.Scatter(x=sentiment_data, y=actual_prices, mode='markers',\n",
    "                  name='Sentiment vs Price', marker=dict(color='green', size=4)),\n",
    "        row=2, col=2\n",
    "    )\n",
    "    \n",
    "    # Update layout\n",
    "    fig.update_layout(\n",
    "        title='Stock Price Prediction Analysis',\n",
    "        height=800,\n",
    "        showlegend=True,\n",
    "        template='plotly_white'\n",
    "    )\n",
    "    \n",
    "    fig.update_xaxes(title_text=\"Date\", row=1, col=1)\n",
    "    fig.update_yaxes(title_text=\"Price ($)\", row=1, col=1)\n",
    "    fig.update_xaxes(title_text=\"Date\", row=2, col=1)\n",
    "    fig.update_yaxes(title_text=\"Prediction Error ($)\", row=2, col=1)\n",
    "    fig.update_xaxes(title_text=\"Sentiment Score\", row=2, col=2)\n",
    "    fig.update_yaxes(title_text=\"Actual Price ($)\", row=2, col=2)\n",
    "    \n",
    "    return fig\n",
    "\n"
   ]
  },
  {
   "cell_type": "code",
   "execution_count": 64,
   "id": "6b842967",
   "metadata": {},
   "outputs": [],
   "source": [
    "def create_performance_summary(metrics_comparison, naive_model, sentiment_model):\n",
    "    \"\"\"\n",
    "    Create a summary of model performance and feature importance\n",
    "    \"\"\"\n",
    "    print(\"=\" * 60)\n",
    "    print(\"MODEL PERFORMANCE SUMMARY\")\n",
    "    print(\"=\" * 60)\n",
    "    \n",
    "    # Display metrics comparison\n",
    "    print(\"\\nMetrics Comparison:\")\n",
    "    print(metrics_comparison.round(4))\n",
    "    \n",
    "    # Feature importance for sentiment model\n",
    "    print(f\"\\nSentiment Model Feature Importance:\")\n",
    "    feature_names = [f'close_lag_{i}' for i in range(1, 6)] + [f'sentiment_lag_{i}' for i in range(1, 6)]\n",
    "    importance_df = pd.DataFrame({\n",
    "        'Feature': feature_names,\n",
    "        'Coefficient': sentiment_model.coef_,\n",
    "        'Abs_Coefficient': np.abs(sentiment_model.coef_)\n",
    "    }).sort_values('Abs_Coefficient', ascending=False)\n",
    "    \n",
    "    print(importance_df.round(4))\n",
    "    \n",
    "    # Model comparison summary\n",
    "    print(f\"\\nModel Comparison Summary:\")\n",
    "    print(f\"Naive Model R²: {metrics_comparison.loc[2, 'Naive Model']:.4f}\")\n",
    "    print(f\"Sentiment Model R²: {metrics_comparison.loc[2, 'Sentiment Model']:.4f}\")\n",
    "    print(f\"R² Improvement: {-metrics_comparison.loc[2, 'Improvement']:.2f}%\")\n",
    "    print(f\"RMSE Improvement: {-metrics_comparison.loc[0, 'Improvement']:.2f}%\")\n",
    "    \n",
    "    return importance_df\n",
    "\n",
    "def run_stock_prediction_analysis(final_dataset, lookback_window=5, train_size=100):\n",
    "    \"\"\"\n",
    "    Main function to run the complete stock prediction analysis\n",
    "    \"\"\"\n",
    "    print(\"Starting Stock Price Prediction Analysis...\")\n",
    "    print(f\"Dataset shape: {final_dataset.shape}\")\n",
    "    print(f\"Using {lookback_window} previous periods for prediction\")\n",
    "    print(f\"Training on first {train_size} samples\")\n",
    "    \n",
    "    # Step 1: Create features\n",
    "    print(\"\\nStep 1: Creating features...\")\n",
    "    features_df = create_features(final_dataset, lookback_window)\n",
    "    print(f\"Features created. Shape: {features_df.shape}\")\n",
    "    \n",
    "    # Step 2: Prepare model data\n",
    "    print(\"\\nStep 2: Preparing model data...\")\n",
    "    X_naive, X_sentiment, y = prepare_model_data(features_df, lookback_window)\n",
    "    print(f\"Naive model features: {X_naive.shape}\")\n",
    "    print(f\"Sentiment model features: {X_sentiment.shape}\")\n",
    "    \n",
    "    # Step 3: Train models\n",
    "    print(\"\\nStep 3: Training models...\")\n",
    "    naive_model, sentiment_model, X_naive_test, X_sentiment_test, y_test = train_models(\n",
    "        X_naive, X_sentiment, y, train_size\n",
    "    )\n",
    "    print(f\"Models trained. Test set size: {len(y_test)}\")\n",
    "    \n",
    "    # Step 4: Evaluate models\n",
    "    print(\"\\nStep 4: Evaluating models...\")\n",
    "    metrics_comparison, naive_predictions, sentiment_predictions = evaluate_models(\n",
    "        naive_model, sentiment_model, X_naive_test, X_sentiment_test, y_test\n",
    "    )\n",
    "    \n",
    "    # Step 5: Create visualization\n",
    "    print(\"\\nStep 5: Creating visualization...\")\n",
    "    fig = create_visualization(final_dataset, naive_predictions, sentiment_predictions, train_size)\n",
    "    \n",
    "    # Step 6: Performance summary\n",
    "    print(\"\\nStep 6: Performance summary...\")\n",
    "    importance_df = create_performance_summary(metrics_comparison, naive_model, sentiment_model)\n",
    "    \n",
    "    return {\n",
    "        'naive_model': naive_model,\n",
    "        'sentiment_model': sentiment_model,\n",
    "        'metrics_comparison': metrics_comparison,\n",
    "        'feature_importance': importance_df,\n",
    "        'predictions': {\n",
    "            'naive': naive_predictions,\n",
    "            'sentiment': sentiment_predictions,\n",
    "            'actual': y_test\n",
    "        },\n",
    "        'visualization': fig\n",
    "    }\n",
    "\n",
    "# Usage example:\n",
    "# results = run_stock_prediction_analysis(final_dataset)\n",
    "# results['visualization'].show()\n",
    "\n",
    "# Additional analysis function\n",
    "def analyze_sentiment_impact(final_dataset, results):\n",
    "    \"\"\"\n",
    "    Analyze the impact of sentiment on predictions\n",
    "    \"\"\"\n",
    "    print(\"\\n\" + \"=\"*60)\n",
    "    print(\"SENTIMENT IMPACT ANALYSIS\")\n",
    "    print(\"=\"*60)\n",
    "    \n",
    "    # Calculate correlation between sentiment and price changes\n",
    "    price_changes = final_dataset['Close'].pct_change()\n",
    "    sentiment_corr = final_dataset['sentiment_score'].corr(price_changes)\n",
    "    \n",
    "    print(f\"Correlation between sentiment and price changes: {sentiment_corr:.4f}\")\n",
    "    \n",
    "    # Analyze prediction accuracy by sentiment level\n",
    "    sentiment_test = final_dataset['sentiment_score'].iloc[105:105+len(results['predictions']['actual'])]\n",
    "    \n",
    "    # Categorize sentiment\n",
    "    high_sentiment = sentiment_test > 0.1\n",
    "    low_sentiment = sentiment_test < -0.1\n",
    "    neutral_sentiment = (sentiment_test >= -0.1) & (sentiment_test <= 0.1)\n",
    "    \n",
    "    print(f\"\\nPrediction accuracy by sentiment level:\")\n",
    "    print(f\"High sentiment periods: {high_sentiment.sum()}\")\n",
    "    print(f\"Low sentiment periods: {low_sentiment.sum()}\")\n",
    "    print(f\"Neutral sentiment periods: {neutral_sentiment.sum()}\")\n",
    "    \n",
    "    if high_sentiment.sum() > 0:\n",
    "        high_rmse = np.sqrt(mean_squared_error(\n",
    "            results['predictions']['actual'][high_sentiment], \n",
    "            results['predictions']['sentiment'][high_sentiment]\n",
    "        ))\n",
    "        print(f\"RMSE during high sentiment: {high_rmse:.4f}\")\n",
    "    \n",
    "    if low_sentiment.sum() > 0:\n",
    "        low_rmse = np.sqrt(mean_squared_error(\n",
    "            results['predictions']['actual'][low_sentiment], \n",
    "            results['predictions']['sentiment'][low_sentiment]\n",
    "        ))\n",
    "        print(f\"RMSE during low sentiment: {low_rmse:.4f}\")"
   ]
  },
  {
   "cell_type": "code",
   "execution_count": 65,
   "id": "ff9c1761",
   "metadata": {},
   "outputs": [],
   "source": [
    "final_dataset = pd.read_csv(\"final_dataset_with_sentiment.csv\")"
   ]
  },
  {
   "cell_type": "code",
   "execution_count": 66,
   "id": "ab098bbc",
   "metadata": {},
   "outputs": [
    {
     "name": "stdout",
     "output_type": "stream",
     "text": [
      "Starting Stock Price Prediction Analysis...\n",
      "Dataset shape: (143, 3)\n",
      "Using 5 previous periods for prediction\n",
      "Training on first 100 samples\n",
      "\n",
      "Step 1: Creating features...\n",
      "Features created. Shape: (137, 14)\n",
      "\n",
      "Step 2: Preparing model data...\n",
      "Naive model features: (137, 5)\n",
      "Sentiment model features: (137, 10)\n",
      "\n",
      "Step 3: Training models...\n",
      "Models trained. Test set size: 37\n",
      "\n",
      "Step 4: Evaluating models...\n",
      "\n",
      "Step 5: Creating visualization...\n",
      "\n",
      "Step 6: Performance summary...\n",
      "============================================================\n",
      "MODEL PERFORMANCE SUMMARY\n",
      "============================================================\n",
      "\n",
      "Metrics Comparison:\n",
      "     Metric  Naive Model  Sentiment Model  Improvement\n",
      "0      RMSE       2.4463           2.6680      -9.0645\n",
      "1       MAE       1.7018           1.9706     -15.7935\n",
      "2        R²       0.2613           0.1214     -53.5625\n",
      "3  MAPE (%)       0.3437           0.3979     -15.7792\n",
      "\n",
      "Sentiment Model Feature Importance:\n",
      "           Feature  Coefficient  Abs_Coefficient\n",
      "5  sentiment_lag_1       2.2778           2.2778\n",
      "7  sentiment_lag_3      -1.2136           1.2136\n",
      "8  sentiment_lag_4      -1.1877           1.1877\n",
      "0      close_lag_1       0.9642           0.9642\n",
      "6  sentiment_lag_2       0.8593           0.8593\n",
      "9  sentiment_lag_5      -0.2656           0.2656\n",
      "4      close_lag_5       0.2061           0.2061\n",
      "3      close_lag_4      -0.1048           0.1048\n",
      "2      close_lag_3      -0.0581           0.0581\n",
      "1      close_lag_2      -0.0259           0.0259\n",
      "\n",
      "Model Comparison Summary:\n",
      "Naive Model R²: 0.2613\n",
      "Sentiment Model R²: 0.1214\n",
      "R² Improvement: 53.56%\n",
      "RMSE Improvement: 9.06%\n"
     ]
    }
   ],
   "source": [
    "results = run_stock_prediction_analysis(final_dataset)"
   ]
  },
  {
   "cell_type": "code",
   "execution_count": 67,
   "id": "e21f55d0",
   "metadata": {},
   "outputs": [
    {
     "name": "stdout",
     "output_type": "stream",
     "text": [
      "\n",
      "============================================================\n",
      "SENTIMENT IMPACT ANALYSIS\n",
      "============================================================\n",
      "Correlation between sentiment and price changes: 0.0219\n",
      "\n",
      "Prediction accuracy by sentiment level:\n",
      "High sentiment periods: 4\n",
      "Low sentiment periods: 6\n",
      "Neutral sentiment periods: 27\n",
      "RMSE during high sentiment: 1.8652\n",
      "RMSE during low sentiment: 3.6686\n"
     ]
    }
   ],
   "source": [
    "analyze_sentiment_impact(final_dataset, results)"
   ]
  },
  {
   "cell_type": "code",
   "execution_count": 68,
   "id": "58cd4c55",
   "metadata": {},
   "outputs": [
    {
     "data": {
      "application/vnd.plotly.v1+json": {
       "config": {
        "plotlyServerURL": "https://plot.ly"
       },
       "data": [
        {
         "line": {
          "color": "black",
          "width": 2
         },
         "name": "Actual Price",
         "type": "scatter",
         "x": [
          "2025-06-26 13:30:00+00:00",
          "2025-06-26 14:30:00+00:00",
          "2025-06-26 15:30:00+00:00",
          "2025-06-26 16:30:00+00:00",
          "2025-06-26 17:30:00+00:00",
          "2025-06-26 18:30:00+00:00",
          "2025-06-26 19:30:00+00:00",
          "2025-06-27 13:30:00+00:00",
          "2025-06-27 14:30:00+00:00",
          "2025-06-27 15:30:00+00:00",
          "2025-06-27 16:30:00+00:00",
          "2025-06-27 17:30:00+00:00",
          "2025-06-27 18:30:00+00:00",
          "2025-06-27 19:30:00+00:00",
          "2025-06-30 13:30:00+00:00",
          "2025-06-30 14:30:00+00:00",
          "2025-06-30 15:30:00+00:00",
          "2025-06-30 16:30:00+00:00",
          "2025-06-30 17:30:00+00:00",
          "2025-06-30 18:30:00+00:00",
          "2025-06-30 19:30:00+00:00",
          "2025-07-01 13:30:00+00:00",
          "2025-07-01 14:30:00+00:00",
          "2025-07-01 15:30:00+00:00",
          "2025-07-01 16:30:00+00:00",
          "2025-07-01 17:30:00+00:00",
          "2025-07-01 18:30:00+00:00",
          "2025-07-01 19:30:00+00:00",
          "2025-07-02 13:30:00+00:00",
          "2025-07-02 14:30:00+00:00",
          "2025-07-02 15:30:00+00:00",
          "2025-07-02 16:30:00+00:00",
          "2025-07-02 17:30:00+00:00",
          "2025-07-02 18:30:00+00:00",
          "2025-07-02 19:30:00+00:00",
          "2025-07-03 13:30:00+00:00",
          "2025-07-03 14:30:00+00:00"
         ],
         "xaxis": "x",
         "y": [
          495.25,
          493.2449951,
          493.8699951,
          495.9107971,
          497.6900024,
          497.4299927,
          497.3099976,
          497.7200012,
          497.9249878,
          497.9700012,
          497.480011,
          495.6560059,
          494.8900146,
          495.8800049,
          496.0577087,
          497.3875122,
          497.8299866,
          497.6794128,
          498.0299988,
          499.0450134,
          497.1600037,
          497.1549988,
          493.8049927,
          491.8800049,
          493.2542114,
          492.5499878,
          492.2900085,
          492.019989,
          491.7650146,
          491.9400024,
          492.1759949,
          490.2349854,
          490.0700073,
          490.2000122,
          490.9700012,
          498.2762146,
          498.4299927
         ],
         "yaxis": "y"
        },
        {
         "line": {
          "color": "blue",
          "dash": "dash",
          "width": 1.5
         },
         "name": "Naive Model",
         "type": "scatter",
         "x": [
          "2025-06-26 13:30:00+00:00",
          "2025-06-26 14:30:00+00:00",
          "2025-06-26 15:30:00+00:00",
          "2025-06-26 16:30:00+00:00",
          "2025-06-26 17:30:00+00:00",
          "2025-06-26 18:30:00+00:00",
          "2025-06-26 19:30:00+00:00",
          "2025-06-27 13:30:00+00:00",
          "2025-06-27 14:30:00+00:00",
          "2025-06-27 15:30:00+00:00",
          "2025-06-27 16:30:00+00:00",
          "2025-06-27 17:30:00+00:00",
          "2025-06-27 18:30:00+00:00",
          "2025-06-27 19:30:00+00:00",
          "2025-06-30 13:30:00+00:00",
          "2025-06-30 14:30:00+00:00",
          "2025-06-30 15:30:00+00:00",
          "2025-06-30 16:30:00+00:00",
          "2025-06-30 17:30:00+00:00",
          "2025-06-30 18:30:00+00:00",
          "2025-06-30 19:30:00+00:00",
          "2025-07-01 13:30:00+00:00",
          "2025-07-01 14:30:00+00:00",
          "2025-07-01 15:30:00+00:00",
          "2025-07-01 16:30:00+00:00",
          "2025-07-01 17:30:00+00:00",
          "2025-07-01 18:30:00+00:00",
          "2025-07-01 19:30:00+00:00",
          "2025-07-02 13:30:00+00:00",
          "2025-07-02 14:30:00+00:00",
          "2025-07-02 15:30:00+00:00",
          "2025-07-02 16:30:00+00:00",
          "2025-07-02 17:30:00+00:00",
          "2025-07-02 18:30:00+00:00",
          "2025-07-02 19:30:00+00:00",
          "2025-07-03 13:30:00+00:00",
          "2025-07-03 14:30:00+00:00"
         ],
         "xaxis": "x",
         "y": [
          493.17700608418227,
          495.5756942378533,
          493.07501798082995,
          493.7884745668264,
          496.1162688851282,
          498.3224380766749,
          497.20853517672265,
          497.02550148286764,
          497.8628866522144,
          498.4422140835202,
          498.3746930335922,
          497.8180869273606,
          496.12626224152655,
          495.652229063786,
          496.91818807654226,
          497.0104758531113,
          497.85639281366707,
          497.9234290373778,
          497.8228009354606,
          498.14162171318173,
          499.41398647695155,
          497.4849679639297,
          497.5581785135633,
          494.40518356420705,
          493.1569149264247,
          494.6190279390476,
          494.0522579601262,
          493.07324338610556,
          492.4076370771286,
          492.5412848162821,
          492.6206191427408,
          492.8113148892686,
          490.7735209271543,
          490.7436224613935,
          491.0912012330669,
          491.9900031859439,
          498.7826151689087
         ],
         "yaxis": "y"
        },
        {
         "line": {
          "color": "red",
          "dash": "dot",
          "width": 1.5
         },
         "name": "Sentiment Model",
         "type": "scatter",
         "x": [
          "2025-06-26 13:30:00+00:00",
          "2025-06-26 14:30:00+00:00",
          "2025-06-26 15:30:00+00:00",
          "2025-06-26 16:30:00+00:00",
          "2025-06-26 17:30:00+00:00",
          "2025-06-26 18:30:00+00:00",
          "2025-06-26 19:30:00+00:00",
          "2025-06-27 13:30:00+00:00",
          "2025-06-27 14:30:00+00:00",
          "2025-06-27 15:30:00+00:00",
          "2025-06-27 16:30:00+00:00",
          "2025-06-27 17:30:00+00:00",
          "2025-06-27 18:30:00+00:00",
          "2025-06-27 19:30:00+00:00",
          "2025-06-30 13:30:00+00:00",
          "2025-06-30 14:30:00+00:00",
          "2025-06-30 15:30:00+00:00",
          "2025-06-30 16:30:00+00:00",
          "2025-06-30 17:30:00+00:00",
          "2025-06-30 18:30:00+00:00",
          "2025-06-30 19:30:00+00:00",
          "2025-07-01 13:30:00+00:00",
          "2025-07-01 14:30:00+00:00",
          "2025-07-01 15:30:00+00:00",
          "2025-07-01 16:30:00+00:00",
          "2025-07-01 17:30:00+00:00",
          "2025-07-01 18:30:00+00:00",
          "2025-07-01 19:30:00+00:00",
          "2025-07-02 13:30:00+00:00",
          "2025-07-02 14:30:00+00:00",
          "2025-07-02 15:30:00+00:00",
          "2025-07-02 16:30:00+00:00",
          "2025-07-02 17:30:00+00:00",
          "2025-07-02 18:30:00+00:00",
          "2025-07-02 19:30:00+00:00",
          "2025-07-03 13:30:00+00:00",
          "2025-07-03 14:30:00+00:00"
         ],
         "xaxis": "x",
         "y": [
          493.26774038282406,
          495.15813325350393,
          492.9803531905285,
          493.72796867906504,
          495.8375179831512,
          496.2228920876252,
          496.2461637817141,
          498.01256360533574,
          498.952988405561,
          498.7150781389467,
          498.31115575503594,
          498.0398576014833,
          496.15340832317014,
          495.23468634691005,
          496.65542668902424,
          496.8943355468372,
          497.6051606361797,
          496.4939361227435,
          497.32607489125417,
          499.1925508650691,
          500.0750013042678,
          497.36541308549914,
          497.1444296567542,
          494.19100150367746,
          492.8866437297609,
          494.0682182760812,
          493.8153383895446,
          493.01429650052404,
          492.2608287393153,
          491.24426412158124,
          492.03344298055964,
          494.07530535764494,
          491.6578233398706,
          488.198844341402,
          489.62749240040364,
          492.2993160318435,
          499.3413768958928
         ],
         "yaxis": "y"
        },
        {
         "line": {
          "color": "blue",
          "width": 1
         },
         "name": "Naive Error",
         "type": "scatter",
         "x": [
          "2025-06-26 13:30:00+00:00",
          "2025-06-26 14:30:00+00:00",
          "2025-06-26 15:30:00+00:00",
          "2025-06-26 16:30:00+00:00",
          "2025-06-26 17:30:00+00:00",
          "2025-06-26 18:30:00+00:00",
          "2025-06-26 19:30:00+00:00",
          "2025-06-27 13:30:00+00:00",
          "2025-06-27 14:30:00+00:00",
          "2025-06-27 15:30:00+00:00",
          "2025-06-27 16:30:00+00:00",
          "2025-06-27 17:30:00+00:00",
          "2025-06-27 18:30:00+00:00",
          "2025-06-27 19:30:00+00:00",
          "2025-06-30 13:30:00+00:00",
          "2025-06-30 14:30:00+00:00",
          "2025-06-30 15:30:00+00:00",
          "2025-06-30 16:30:00+00:00",
          "2025-06-30 17:30:00+00:00",
          "2025-06-30 18:30:00+00:00",
          "2025-06-30 19:30:00+00:00",
          "2025-07-01 13:30:00+00:00",
          "2025-07-01 14:30:00+00:00",
          "2025-07-01 15:30:00+00:00",
          "2025-07-01 16:30:00+00:00",
          "2025-07-01 17:30:00+00:00",
          "2025-07-01 18:30:00+00:00",
          "2025-07-01 19:30:00+00:00",
          "2025-07-02 13:30:00+00:00",
          "2025-07-02 14:30:00+00:00",
          "2025-07-02 15:30:00+00:00",
          "2025-07-02 16:30:00+00:00",
          "2025-07-02 17:30:00+00:00",
          "2025-07-02 18:30:00+00:00",
          "2025-07-02 19:30:00+00:00",
          "2025-07-03 13:30:00+00:00",
          "2025-07-03 14:30:00+00:00"
         ],
         "xaxis": "x2",
         "y": [
          2.072993915817733,
          -2.330699137853344,
          0.7949771191700279,
          2.1223225331736444,
          1.573733514871833,
          -0.8924453766749139,
          0.1014624232773258,
          0.6944997171323735,
          0.06210114778559728,
          -0.47221288352017154,
          -0.8946820335922325,
          -2.162081027360557,
          -1.2362476415265746,
          0.22777583621399344,
          -0.8604793765422869,
          0.37703634688870125,
          -0.026406213667087286,
          -0.2440162373777639,
          0.2071978645394097,
          0.9033916868182814,
          -2.2539827769515455,
          -0.329969163929718,
          -3.7531858135632774,
          -2.525178664207033,
          0.09729647357528393,
          -2.0690401390476154,
          -1.7622494601262133,
          -1.0532543861055501,
          -0.6426224771286115,
          -0.6012824162820607,
          -0.44462424274081513,
          -2.5763294892685735,
          -0.7035136271543365,
          -0.5436102613934963,
          -0.12120003306688432,
          6.286211414056083,
          -0.35262246890869164
         ],
         "yaxis": "y2"
        },
        {
         "line": {
          "color": "red",
          "width": 1
         },
         "name": "Sentiment Error",
         "type": "scatter",
         "x": [
          "2025-06-26 13:30:00+00:00",
          "2025-06-26 14:30:00+00:00",
          "2025-06-26 15:30:00+00:00",
          "2025-06-26 16:30:00+00:00",
          "2025-06-26 17:30:00+00:00",
          "2025-06-26 18:30:00+00:00",
          "2025-06-26 19:30:00+00:00",
          "2025-06-27 13:30:00+00:00",
          "2025-06-27 14:30:00+00:00",
          "2025-06-27 15:30:00+00:00",
          "2025-06-27 16:30:00+00:00",
          "2025-06-27 17:30:00+00:00",
          "2025-06-27 18:30:00+00:00",
          "2025-06-27 19:30:00+00:00",
          "2025-06-30 13:30:00+00:00",
          "2025-06-30 14:30:00+00:00",
          "2025-06-30 15:30:00+00:00",
          "2025-06-30 16:30:00+00:00",
          "2025-06-30 17:30:00+00:00",
          "2025-06-30 18:30:00+00:00",
          "2025-06-30 19:30:00+00:00",
          "2025-07-01 13:30:00+00:00",
          "2025-07-01 14:30:00+00:00",
          "2025-07-01 15:30:00+00:00",
          "2025-07-01 16:30:00+00:00",
          "2025-07-01 17:30:00+00:00",
          "2025-07-01 18:30:00+00:00",
          "2025-07-01 19:30:00+00:00",
          "2025-07-02 13:30:00+00:00",
          "2025-07-02 14:30:00+00:00",
          "2025-07-02 15:30:00+00:00",
          "2025-07-02 16:30:00+00:00",
          "2025-07-02 17:30:00+00:00",
          "2025-07-02 18:30:00+00:00",
          "2025-07-02 19:30:00+00:00",
          "2025-07-03 13:30:00+00:00",
          "2025-07-03 14:30:00+00:00"
         ],
         "xaxis": "x2",
         "y": [
          1.9822596171759415,
          -1.913138153503951,
          0.8896419094714929,
          2.1828284209349818,
          1.8524844168488244,
          1.207100612374802,
          1.0638338182859002,
          -0.29256240533572964,
          -1.028000605560976,
          -0.7450769389466814,
          -0.8311447550359503,
          -2.383851701483252,
          -1.263393723170168,
          0.6453185530899646,
          -0.597717989024261,
          0.49317665316277726,
          0.22482596382030806,
          1.1854766772565313,
          0.7039239087458213,
          -0.14753746506909238,
          -2.9149976042677963,
          -0.21041428549915508,
          -3.3394369567541844,
          -2.310996603677438,
          0.3675676702390547,
          -1.5182304760812144,
          -1.5253298895445937,
          -0.9943075005240303,
          -0.49581413931531415,
          0.6957382784187871,
          0.1425519194403364,
          -3.8403199576449083,
          -1.5878160398706314,
          2.0011678585980235,
          1.3425087995963736,
          5.976898568156514,
          -0.9113841958927651
         ],
         "yaxis": "y2"
        },
        {
         "marker": {
          "color": "green",
          "size": 4
         },
         "mode": "markers",
         "name": "Sentiment vs Price",
         "type": "scatter",
         "x": [
          0,
          0,
          0,
          0,
          -0.8913391437381506,
          -0.1523231565952301,
          0,
          0,
          0,
          0,
          0.1415386535227298,
          0,
          0,
          0.1211918350309133,
          0,
          0,
          -0.5420291535556316,
          0,
          0.2182709574699401,
          0,
          0,
          0,
          0,
          0,
          0,
          0,
          0,
          0,
          -0.5048066647723317,
          0,
          0.3437185673974454,
          0,
          -0.9165234910324216,
          0,
          -0.2395642232149839,
          0,
          0
         ],
         "xaxis": "x3",
         "y": [
          495.25,
          493.2449951,
          493.8699951,
          495.9107971,
          497.6900024,
          497.4299927,
          497.3099976,
          497.7200012,
          497.9249878,
          497.9700012,
          497.480011,
          495.6560059,
          494.8900146,
          495.8800049,
          496.0577087,
          497.3875122,
          497.8299866,
          497.6794128,
          498.0299988,
          499.0450134,
          497.1600037,
          497.1549988,
          493.8049927,
          491.8800049,
          493.2542114,
          492.5499878,
          492.2900085,
          492.019989,
          491.7650146,
          491.9400024,
          492.1759949,
          490.2349854,
          490.0700073,
          490.2000122,
          490.9700012,
          498.2762146,
          498.4299927
         ],
         "yaxis": "y3"
        }
       ],
       "layout": {
        "annotations": [
         {
          "font": {
           "size": 16
          },
          "showarrow": false,
          "text": "Price Predictions Comparison",
          "x": 0.5,
          "xanchor": "center",
          "xref": "paper",
          "y": 1,
          "yanchor": "bottom",
          "yref": "paper"
         },
         {
          "font": {
           "size": 16
          },
          "showarrow": false,
          "text": "Prediction Errors",
          "x": 0.225,
          "xanchor": "center",
          "xref": "paper",
          "y": 0.375,
          "yanchor": "bottom",
          "yref": "paper"
         },
         {
          "font": {
           "size": 16
          },
          "showarrow": false,
          "text": "Sentiment vs Price",
          "x": 0.775,
          "xanchor": "center",
          "xref": "paper",
          "y": 0.375,
          "yanchor": "bottom",
          "yref": "paper"
         }
        ],
        "height": 800,
        "showlegend": true,
        "template": {
         "data": {
          "bar": [
           {
            "error_x": {
             "color": "#2a3f5f"
            },
            "error_y": {
             "color": "#2a3f5f"
            },
            "marker": {
             "line": {
              "color": "white",
              "width": 0.5
             },
             "pattern": {
              "fillmode": "overlay",
              "size": 10,
              "solidity": 0.2
             }
            },
            "type": "bar"
           }
          ],
          "barpolar": [
           {
            "marker": {
             "line": {
              "color": "white",
              "width": 0.5
             },
             "pattern": {
              "fillmode": "overlay",
              "size": 10,
              "solidity": 0.2
             }
            },
            "type": "barpolar"
           }
          ],
          "carpet": [
           {
            "aaxis": {
             "endlinecolor": "#2a3f5f",
             "gridcolor": "#C8D4E3",
             "linecolor": "#C8D4E3",
             "minorgridcolor": "#C8D4E3",
             "startlinecolor": "#2a3f5f"
            },
            "baxis": {
             "endlinecolor": "#2a3f5f",
             "gridcolor": "#C8D4E3",
             "linecolor": "#C8D4E3",
             "minorgridcolor": "#C8D4E3",
             "startlinecolor": "#2a3f5f"
            },
            "type": "carpet"
           }
          ],
          "choropleth": [
           {
            "colorbar": {
             "outlinewidth": 0,
             "ticks": ""
            },
            "type": "choropleth"
           }
          ],
          "contour": [
           {
            "colorbar": {
             "outlinewidth": 0,
             "ticks": ""
            },
            "colorscale": [
             [
              0,
              "#0d0887"
             ],
             [
              0.1111111111111111,
              "#46039f"
             ],
             [
              0.2222222222222222,
              "#7201a8"
             ],
             [
              0.3333333333333333,
              "#9c179e"
             ],
             [
              0.4444444444444444,
              "#bd3786"
             ],
             [
              0.5555555555555556,
              "#d8576b"
             ],
             [
              0.6666666666666666,
              "#ed7953"
             ],
             [
              0.7777777777777778,
              "#fb9f3a"
             ],
             [
              0.8888888888888888,
              "#fdca26"
             ],
             [
              1,
              "#f0f921"
             ]
            ],
            "type": "contour"
           }
          ],
          "contourcarpet": [
           {
            "colorbar": {
             "outlinewidth": 0,
             "ticks": ""
            },
            "type": "contourcarpet"
           }
          ],
          "heatmap": [
           {
            "colorbar": {
             "outlinewidth": 0,
             "ticks": ""
            },
            "colorscale": [
             [
              0,
              "#0d0887"
             ],
             [
              0.1111111111111111,
              "#46039f"
             ],
             [
              0.2222222222222222,
              "#7201a8"
             ],
             [
              0.3333333333333333,
              "#9c179e"
             ],
             [
              0.4444444444444444,
              "#bd3786"
             ],
             [
              0.5555555555555556,
              "#d8576b"
             ],
             [
              0.6666666666666666,
              "#ed7953"
             ],
             [
              0.7777777777777778,
              "#fb9f3a"
             ],
             [
              0.8888888888888888,
              "#fdca26"
             ],
             [
              1,
              "#f0f921"
             ]
            ],
            "type": "heatmap"
           }
          ],
          "heatmapgl": [
           {
            "colorbar": {
             "outlinewidth": 0,
             "ticks": ""
            },
            "colorscale": [
             [
              0,
              "#0d0887"
             ],
             [
              0.1111111111111111,
              "#46039f"
             ],
             [
              0.2222222222222222,
              "#7201a8"
             ],
             [
              0.3333333333333333,
              "#9c179e"
             ],
             [
              0.4444444444444444,
              "#bd3786"
             ],
             [
              0.5555555555555556,
              "#d8576b"
             ],
             [
              0.6666666666666666,
              "#ed7953"
             ],
             [
              0.7777777777777778,
              "#fb9f3a"
             ],
             [
              0.8888888888888888,
              "#fdca26"
             ],
             [
              1,
              "#f0f921"
             ]
            ],
            "type": "heatmapgl"
           }
          ],
          "histogram": [
           {
            "marker": {
             "pattern": {
              "fillmode": "overlay",
              "size": 10,
              "solidity": 0.2
             }
            },
            "type": "histogram"
           }
          ],
          "histogram2d": [
           {
            "colorbar": {
             "outlinewidth": 0,
             "ticks": ""
            },
            "colorscale": [
             [
              0,
              "#0d0887"
             ],
             [
              0.1111111111111111,
              "#46039f"
             ],
             [
              0.2222222222222222,
              "#7201a8"
             ],
             [
              0.3333333333333333,
              "#9c179e"
             ],
             [
              0.4444444444444444,
              "#bd3786"
             ],
             [
              0.5555555555555556,
              "#d8576b"
             ],
             [
              0.6666666666666666,
              "#ed7953"
             ],
             [
              0.7777777777777778,
              "#fb9f3a"
             ],
             [
              0.8888888888888888,
              "#fdca26"
             ],
             [
              1,
              "#f0f921"
             ]
            ],
            "type": "histogram2d"
           }
          ],
          "histogram2dcontour": [
           {
            "colorbar": {
             "outlinewidth": 0,
             "ticks": ""
            },
            "colorscale": [
             [
              0,
              "#0d0887"
             ],
             [
              0.1111111111111111,
              "#46039f"
             ],
             [
              0.2222222222222222,
              "#7201a8"
             ],
             [
              0.3333333333333333,
              "#9c179e"
             ],
             [
              0.4444444444444444,
              "#bd3786"
             ],
             [
              0.5555555555555556,
              "#d8576b"
             ],
             [
              0.6666666666666666,
              "#ed7953"
             ],
             [
              0.7777777777777778,
              "#fb9f3a"
             ],
             [
              0.8888888888888888,
              "#fdca26"
             ],
             [
              1,
              "#f0f921"
             ]
            ],
            "type": "histogram2dcontour"
           }
          ],
          "mesh3d": [
           {
            "colorbar": {
             "outlinewidth": 0,
             "ticks": ""
            },
            "type": "mesh3d"
           }
          ],
          "parcoords": [
           {
            "line": {
             "colorbar": {
              "outlinewidth": 0,
              "ticks": ""
             }
            },
            "type": "parcoords"
           }
          ],
          "pie": [
           {
            "automargin": true,
            "type": "pie"
           }
          ],
          "scatter": [
           {
            "fillpattern": {
             "fillmode": "overlay",
             "size": 10,
             "solidity": 0.2
            },
            "type": "scatter"
           }
          ],
          "scatter3d": [
           {
            "line": {
             "colorbar": {
              "outlinewidth": 0,
              "ticks": ""
             }
            },
            "marker": {
             "colorbar": {
              "outlinewidth": 0,
              "ticks": ""
             }
            },
            "type": "scatter3d"
           }
          ],
          "scattercarpet": [
           {
            "marker": {
             "colorbar": {
              "outlinewidth": 0,
              "ticks": ""
             }
            },
            "type": "scattercarpet"
           }
          ],
          "scattergeo": [
           {
            "marker": {
             "colorbar": {
              "outlinewidth": 0,
              "ticks": ""
             }
            },
            "type": "scattergeo"
           }
          ],
          "scattergl": [
           {
            "marker": {
             "colorbar": {
              "outlinewidth": 0,
              "ticks": ""
             }
            },
            "type": "scattergl"
           }
          ],
          "scattermapbox": [
           {
            "marker": {
             "colorbar": {
              "outlinewidth": 0,
              "ticks": ""
             }
            },
            "type": "scattermapbox"
           }
          ],
          "scatterpolar": [
           {
            "marker": {
             "colorbar": {
              "outlinewidth": 0,
              "ticks": ""
             }
            },
            "type": "scatterpolar"
           }
          ],
          "scatterpolargl": [
           {
            "marker": {
             "colorbar": {
              "outlinewidth": 0,
              "ticks": ""
             }
            },
            "type": "scatterpolargl"
           }
          ],
          "scatterternary": [
           {
            "marker": {
             "colorbar": {
              "outlinewidth": 0,
              "ticks": ""
             }
            },
            "type": "scatterternary"
           }
          ],
          "surface": [
           {
            "colorbar": {
             "outlinewidth": 0,
             "ticks": ""
            },
            "colorscale": [
             [
              0,
              "#0d0887"
             ],
             [
              0.1111111111111111,
              "#46039f"
             ],
             [
              0.2222222222222222,
              "#7201a8"
             ],
             [
              0.3333333333333333,
              "#9c179e"
             ],
             [
              0.4444444444444444,
              "#bd3786"
             ],
             [
              0.5555555555555556,
              "#d8576b"
             ],
             [
              0.6666666666666666,
              "#ed7953"
             ],
             [
              0.7777777777777778,
              "#fb9f3a"
             ],
             [
              0.8888888888888888,
              "#fdca26"
             ],
             [
              1,
              "#f0f921"
             ]
            ],
            "type": "surface"
           }
          ],
          "table": [
           {
            "cells": {
             "fill": {
              "color": "#EBF0F8"
             },
             "line": {
              "color": "white"
             }
            },
            "header": {
             "fill": {
              "color": "#C8D4E3"
             },
             "line": {
              "color": "white"
             }
            },
            "type": "table"
           }
          ]
         },
         "layout": {
          "annotationdefaults": {
           "arrowcolor": "#2a3f5f",
           "arrowhead": 0,
           "arrowwidth": 1
          },
          "autotypenumbers": "strict",
          "coloraxis": {
           "colorbar": {
            "outlinewidth": 0,
            "ticks": ""
           }
          },
          "colorscale": {
           "diverging": [
            [
             0,
             "#8e0152"
            ],
            [
             0.1,
             "#c51b7d"
            ],
            [
             0.2,
             "#de77ae"
            ],
            [
             0.3,
             "#f1b6da"
            ],
            [
             0.4,
             "#fde0ef"
            ],
            [
             0.5,
             "#f7f7f7"
            ],
            [
             0.6,
             "#e6f5d0"
            ],
            [
             0.7,
             "#b8e186"
            ],
            [
             0.8,
             "#7fbc41"
            ],
            [
             0.9,
             "#4d9221"
            ],
            [
             1,
             "#276419"
            ]
           ],
           "sequential": [
            [
             0,
             "#0d0887"
            ],
            [
             0.1111111111111111,
             "#46039f"
            ],
            [
             0.2222222222222222,
             "#7201a8"
            ],
            [
             0.3333333333333333,
             "#9c179e"
            ],
            [
             0.4444444444444444,
             "#bd3786"
            ],
            [
             0.5555555555555556,
             "#d8576b"
            ],
            [
             0.6666666666666666,
             "#ed7953"
            ],
            [
             0.7777777777777778,
             "#fb9f3a"
            ],
            [
             0.8888888888888888,
             "#fdca26"
            ],
            [
             1,
             "#f0f921"
            ]
           ],
           "sequentialminus": [
            [
             0,
             "#0d0887"
            ],
            [
             0.1111111111111111,
             "#46039f"
            ],
            [
             0.2222222222222222,
             "#7201a8"
            ],
            [
             0.3333333333333333,
             "#9c179e"
            ],
            [
             0.4444444444444444,
             "#bd3786"
            ],
            [
             0.5555555555555556,
             "#d8576b"
            ],
            [
             0.6666666666666666,
             "#ed7953"
            ],
            [
             0.7777777777777778,
             "#fb9f3a"
            ],
            [
             0.8888888888888888,
             "#fdca26"
            ],
            [
             1,
             "#f0f921"
            ]
           ]
          },
          "colorway": [
           "#636efa",
           "#EF553B",
           "#00cc96",
           "#ab63fa",
           "#FFA15A",
           "#19d3f3",
           "#FF6692",
           "#B6E880",
           "#FF97FF",
           "#FECB52"
          ],
          "font": {
           "color": "#2a3f5f"
          },
          "geo": {
           "bgcolor": "white",
           "lakecolor": "white",
           "landcolor": "white",
           "showlakes": true,
           "showland": true,
           "subunitcolor": "#C8D4E3"
          },
          "hoverlabel": {
           "align": "left"
          },
          "hovermode": "closest",
          "mapbox": {
           "style": "light"
          },
          "paper_bgcolor": "white",
          "plot_bgcolor": "white",
          "polar": {
           "angularaxis": {
            "gridcolor": "#EBF0F8",
            "linecolor": "#EBF0F8",
            "ticks": ""
           },
           "bgcolor": "white",
           "radialaxis": {
            "gridcolor": "#EBF0F8",
            "linecolor": "#EBF0F8",
            "ticks": ""
           }
          },
          "scene": {
           "xaxis": {
            "backgroundcolor": "white",
            "gridcolor": "#DFE8F3",
            "gridwidth": 2,
            "linecolor": "#EBF0F8",
            "showbackground": true,
            "ticks": "",
            "zerolinecolor": "#EBF0F8"
           },
           "yaxis": {
            "backgroundcolor": "white",
            "gridcolor": "#DFE8F3",
            "gridwidth": 2,
            "linecolor": "#EBF0F8",
            "showbackground": true,
            "ticks": "",
            "zerolinecolor": "#EBF0F8"
           },
           "zaxis": {
            "backgroundcolor": "white",
            "gridcolor": "#DFE8F3",
            "gridwidth": 2,
            "linecolor": "#EBF0F8",
            "showbackground": true,
            "ticks": "",
            "zerolinecolor": "#EBF0F8"
           }
          },
          "shapedefaults": {
           "line": {
            "color": "#2a3f5f"
           }
          },
          "ternary": {
           "aaxis": {
            "gridcolor": "#DFE8F3",
            "linecolor": "#A2B1C6",
            "ticks": ""
           },
           "baxis": {
            "gridcolor": "#DFE8F3",
            "linecolor": "#A2B1C6",
            "ticks": ""
           },
           "bgcolor": "white",
           "caxis": {
            "gridcolor": "#DFE8F3",
            "linecolor": "#A2B1C6",
            "ticks": ""
           }
          },
          "title": {
           "x": 0.05
          },
          "xaxis": {
           "automargin": true,
           "gridcolor": "#EBF0F8",
           "linecolor": "#EBF0F8",
           "ticks": "",
           "title": {
            "standoff": 15
           },
           "zerolinecolor": "#EBF0F8",
           "zerolinewidth": 2
          },
          "yaxis": {
           "automargin": true,
           "gridcolor": "#EBF0F8",
           "linecolor": "#EBF0F8",
           "ticks": "",
           "title": {
            "standoff": 15
           },
           "zerolinecolor": "#EBF0F8",
           "zerolinewidth": 2
          }
         }
        },
        "title": {
         "text": "Stock Price Prediction Analysis"
        },
        "xaxis": {
         "anchor": "y",
         "domain": [
          0,
          1
         ],
         "title": {
          "text": "Date"
         }
        },
        "xaxis2": {
         "anchor": "y2",
         "domain": [
          0,
          0.45
         ],
         "title": {
          "text": "Date"
         }
        },
        "xaxis3": {
         "anchor": "y3",
         "domain": [
          0.55,
          1
         ],
         "title": {
          "text": "Sentiment Score"
         }
        },
        "yaxis": {
         "anchor": "x",
         "domain": [
          0.625,
          1
         ],
         "title": {
          "text": "Price ($)"
         }
        },
        "yaxis2": {
         "anchor": "x2",
         "domain": [
          0,
          0.375
         ],
         "title": {
          "text": "Prediction Error ($)"
         }
        },
        "yaxis3": {
         "anchor": "x3",
         "domain": [
          0,
          0.375
         ],
         "title": {
          "text": "Actual Price ($)"
         }
        }
       }
      }
     },
     "metadata": {},
     "output_type": "display_data"
    }
   ],
   "source": [
    "results['visualization'].show()"
   ]
  },
  {
   "cell_type": "code",
   "execution_count": null,
   "id": "ffa9683d",
   "metadata": {},
   "outputs": [],
   "source": []
  }
 ],
 "metadata": {
  "kernelspec": {
   "display_name": "Python 3",
   "language": "python",
   "name": "python3"
  },
  "language_info": {
   "codemirror_mode": {
    "name": "ipython",
    "version": 3
   },
   "file_extension": ".py",
   "mimetype": "text/x-python",
   "name": "python",
   "nbconvert_exporter": "python",
   "pygments_lexer": "ipython3",
   "version": "3.11.9"
  }
 },
 "nbformat": 4,
 "nbformat_minor": 5
}
